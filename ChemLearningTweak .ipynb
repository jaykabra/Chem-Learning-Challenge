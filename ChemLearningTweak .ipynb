{
 "cells": [
  {
   "cell_type": "code",
   "execution_count": 1,
   "metadata": {},
   "outputs": [],
   "source": [
    "import numpy as np\n",
    "import pandas as pd\n",
    "import matplotlib.pyplot as plt\n",
    "\n",
    "from sklearn.model_selection import train_test_split\n",
    "\n",
    "from sklearn.ensemble import ExtraTreesClassifier\n",
    "from sklearn.ensemble import RandomForestClassifier\n",
    "from xgboost import XGBRegressor\n",
    "\n",
    "\n",
    "from sklearn.impute import SimpleImputer\n",
    "from sklearn.metrics import confusion_matrix\n",
    "\n",
    "from sklearn.preprocessing import LabelEncoder\n",
    "from sklearn.preprocessing import OneHotEncoder\n",
    "\n",
    "from sklearn import datasets\n",
    "from sklearn.decomposition import PCA\n",
    "\n",
    "from sklearn.pipeline import Pipeline\n",
    "from sklearn.utils import shuffle\n",
    "\n",
    "from sklearn.model_selection import cross_val_score"
   ]
  },
  {
   "cell_type": "code",
   "execution_count": 2,
   "metadata": {},
   "outputs": [],
   "source": [
    "dataset=pd.read_csv('D:\\Dataset\\Chem_Learning\\CLC_train.csv')\n",
    "test_dataset = pd.read_csv('D:\\Dataset\\Chem_Learning\\CLC_test.csv')\n",
    "\n",
    "dataset = shuffle(dataset)\n",
    "test_dataset = shuffle(test_dataset)\n",
    "\n",
    "# y_train = dataset.CO_level\n",
    "# y_test = test_dataset.CO_level"
   ]
  },
  {
   "cell_type": "code",
   "execution_count": 3,
   "metadata": {},
   "outputs": [],
   "source": [
    "features = ['CO_GT', 'PT08_S1_CO', 'NMHC_GT', 'C6H6_GT',\n",
    "       'PT08_S2_NMHC', 'Nox_GT', 'PT08_S3_Nox', 'NO2_GT', 'PT08_S4_NO2',\n",
    "       'PT08_S5_O3', 'T', 'RH', 'AH']\n",
    "X = dataset[features]\n",
    "X_test = test_dataset[features]\n",
    "\n",
    "y = dataset['CO_level']\n",
    "y_test = test_dataset['CO_level']\n",
    "\n",
    "ind_var = dataset.iloc[:,2:15]\n",
    "tar_var = dataset.iloc[:,15]\n"
   ]
  },
  {
   "cell_type": "code",
   "execution_count": 4,
   "metadata": {},
   "outputs": [
    {
     "data": {
      "text/html": [
       "<div>\n",
       "<style scoped>\n",
       "    .dataframe tbody tr th:only-of-type {\n",
       "        vertical-align: middle;\n",
       "    }\n",
       "\n",
       "    .dataframe tbody tr th {\n",
       "        vertical-align: top;\n",
       "    }\n",
       "\n",
       "    .dataframe thead th {\n",
       "        text-align: right;\n",
       "    }\n",
       "</style>\n",
       "<table border=\"1\" class=\"dataframe\">\n",
       "  <thead>\n",
       "    <tr style=\"text-align: right;\">\n",
       "      <th></th>\n",
       "      <th>0</th>\n",
       "      <th>1</th>\n",
       "      <th>2</th>\n",
       "      <th>3</th>\n",
       "      <th>4</th>\n",
       "    </tr>\n",
       "  </thead>\n",
       "  <tbody>\n",
       "    <tr>\n",
       "      <th>0</th>\n",
       "      <td>1.0</td>\n",
       "      <td>0.0</td>\n",
       "      <td>0.0</td>\n",
       "      <td>0.0</td>\n",
       "      <td>0.0</td>\n",
       "    </tr>\n",
       "    <tr>\n",
       "      <th>1</th>\n",
       "      <td>0.0</td>\n",
       "      <td>0.0</td>\n",
       "      <td>0.0</td>\n",
       "      <td>0.0</td>\n",
       "      <td>1.0</td>\n",
       "    </tr>\n",
       "    <tr>\n",
       "      <th>2</th>\n",
       "      <td>1.0</td>\n",
       "      <td>0.0</td>\n",
       "      <td>0.0</td>\n",
       "      <td>0.0</td>\n",
       "      <td>0.0</td>\n",
       "    </tr>\n",
       "    <tr>\n",
       "      <th>3</th>\n",
       "      <td>0.0</td>\n",
       "      <td>0.0</td>\n",
       "      <td>0.0</td>\n",
       "      <td>0.0</td>\n",
       "      <td>1.0</td>\n",
       "    </tr>\n",
       "    <tr>\n",
       "      <th>4</th>\n",
       "      <td>1.0</td>\n",
       "      <td>0.0</td>\n",
       "      <td>0.0</td>\n",
       "      <td>0.0</td>\n",
       "      <td>0.0</td>\n",
       "    </tr>\n",
       "    <tr>\n",
       "      <th>...</th>\n",
       "      <td>...</td>\n",
       "      <td>...</td>\n",
       "      <td>...</td>\n",
       "      <td>...</td>\n",
       "      <td>...</td>\n",
       "    </tr>\n",
       "    <tr>\n",
       "      <th>1867</th>\n",
       "      <td>1.0</td>\n",
       "      <td>0.0</td>\n",
       "      <td>0.0</td>\n",
       "      <td>0.0</td>\n",
       "      <td>0.0</td>\n",
       "    </tr>\n",
       "    <tr>\n",
       "      <th>1868</th>\n",
       "      <td>1.0</td>\n",
       "      <td>0.0</td>\n",
       "      <td>0.0</td>\n",
       "      <td>0.0</td>\n",
       "      <td>0.0</td>\n",
       "    </tr>\n",
       "    <tr>\n",
       "      <th>1869</th>\n",
       "      <td>1.0</td>\n",
       "      <td>0.0</td>\n",
       "      <td>0.0</td>\n",
       "      <td>0.0</td>\n",
       "      <td>0.0</td>\n",
       "    </tr>\n",
       "    <tr>\n",
       "      <th>1870</th>\n",
       "      <td>0.0</td>\n",
       "      <td>0.0</td>\n",
       "      <td>0.0</td>\n",
       "      <td>0.0</td>\n",
       "      <td>1.0</td>\n",
       "    </tr>\n",
       "    <tr>\n",
       "      <th>1871</th>\n",
       "      <td>1.0</td>\n",
       "      <td>0.0</td>\n",
       "      <td>0.0</td>\n",
       "      <td>0.0</td>\n",
       "      <td>0.0</td>\n",
       "    </tr>\n",
       "  </tbody>\n",
       "</table>\n",
       "<p>1872 rows × 5 columns</p>\n",
       "</div>"
      ],
      "text/plain": [
       "        0    1    2    3    4\n",
       "0     1.0  0.0  0.0  0.0  0.0\n",
       "1     0.0  0.0  0.0  0.0  1.0\n",
       "2     1.0  0.0  0.0  0.0  0.0\n",
       "3     0.0  0.0  0.0  0.0  1.0\n",
       "4     1.0  0.0  0.0  0.0  0.0\n",
       "...   ...  ...  ...  ...  ...\n",
       "1867  1.0  0.0  0.0  0.0  0.0\n",
       "1868  1.0  0.0  0.0  0.0  0.0\n",
       "1869  1.0  0.0  0.0  0.0  0.0\n",
       "1870  0.0  0.0  0.0  0.0  1.0\n",
       "1871  1.0  0.0  0.0  0.0  0.0\n",
       "\n",
       "[1872 rows x 5 columns]"
      ]
     },
     "execution_count": 4,
     "metadata": {},
     "output_type": "execute_result"
    }
   ],
   "source": [
    "# labelencoder = LabelEncoder()\n",
    "# label_y_train = labelencoder.fit_transform(y_train)\n",
    "# label_y_test = labelencoder.transform(y_test)\n",
    "\n",
    "y_complete = y.values\n",
    "ytest = y_test.values\n",
    "\n",
    "# Apply one-hot encoder on output column with categorical data\n",
    "OH_encoder = OneHotEncoder(handle_unknown='ignore', sparse=False)\n",
    "y = pd.DataFrame(OH_encoder.fit_transform(y_complete.reshape(-1,1)))\n",
    "\n",
    "y_test = pd.DataFrame(OH_encoder.transform(ytest.reshape(-1,1)))\n",
    "y_test"
   ]
  },
  {
   "cell_type": "code",
   "execution_count": 5,
   "metadata": {},
   "outputs": [],
   "source": [
    "#Spltting the dataset into training and validation sets\n",
    "X_train,X_val,y_train,y_val = train_test_split(X,y,test_size=0.2,random_state=0)"
   ]
  },
  {
   "cell_type": "code",
   "execution_count": 6,
   "metadata": {
    "scrolled": true
   },
   "outputs": [
    {
     "data": {
      "image/png": "[encoded data removed]",
      "text/plain": [
       "<Figure size 432x288 with 1 Axes>"
      ]
     },
     "metadata": {
      "needs_background": "light"
     },
     "output_type": "display_data"
    }
   ],
   "source": [
    "model = ExtraTreesClassifier()\n",
    "model.fit(ind_var , tar_var)\n",
    "feat_importances = pd.Series(model.feature_importances_ , index = X_train.columns)\n",
    "feat_importances.nlargest(13).plot(kind='barh')\n",
    "plt.show()"
   ]
  },
  {
   "cell_type": "code",
   "execution_count": 7,
   "metadata": {},
   "outputs": [],
   "source": [
    "# X_train = X_train.drop('NMHC_GT',axis =1,inplace=True)\n",
    "# X_val = X_val.drop('NMHC_GT',axis =1,inplace=True)\n",
    "# X_test = X_test.drop('NMHC_GT',axis =1,inplace=True)\n",
    "\n",
    "# X_train"
   ]
  },
  {
   "cell_type": "code",
   "execution_count": 8,
   "metadata": {},
   "outputs": [],
   "source": [
    "imputer = SimpleImputer(missing_values = -200 ,strategy =\"mean\")\n",
    "\n",
    "imputed_X_train = pd.DataFrame(imputer.fit_transform(X_train))\n",
    "imputed_X_val = pd.DataFrame(imputer.transform(X_val))\n",
    "\n",
    "imputed_X_test = pd.DataFrame(imputer.fit_transform(X_test))\n",
    "\n",
    "imputed_X_train.columns = X_train.columns\n",
    "imputed_X_val.columns = X_val.columns\n",
    "imputed_X_test.columns = X_test.columns"
   ]
  },
  {
   "cell_type": "code",
   "execution_count": 9,
   "metadata": {},
   "outputs": [],
   "source": [
    "# #new_approach_not_using ##\n",
    "\n",
    "\n",
    "# cols_with_missing_values = [];\n",
    "# for col in X_train.columns:\n",
    "#     if(X_train[col].isnull().any()):\n",
    "#         cols_with_missing_values.append(col)\n",
    "        \n",
    "# X_train_aux = X_train.copy()\n",
    "# X_val_aux = X_test.copy()\n",
    "\n",
    "# for col in cols_with_missing_values:\n",
    "#     X_train_aux[col + '_was_missing'] = X_train_aux[col].isnull()\n",
    "#     X_test_aux[col + '_was_missing'] = X_test_aux[col].isnull()\n",
    "    \n",
    "# my_imputer = SimpleImputer(missing_values = -200 ,strategy = 'most_frequent',verbose=0)\n",
    "# imputed_X_train_aux = pd.DataFrame(my_imputer.fit_transform(X_train_aux))\n",
    "# imputed_X_test_aux = pd.DataFrame(my_imputer.transform(X_test_aux))\n",
    "\n",
    "# imputed_X_train_aux.columns = X_test_aux.columns\n",
    "# imputed_X_test_aux.columns = X_test_aux.columns"
   ]
  },
  {
   "cell_type": "code",
   "execution_count": 10,
   "metadata": {},
   "outputs": [],
   "source": [
    "# my_pipeline = Pipeline(steps=[('preprocessor', SimpleImputer()),\n",
    "#                               ('model', RandomForestRegressor(n_estimators=50,\n",
    "#                                                               random_state=0))\n",
    "#                              ])"
   ]
  },
  {
   "cell_type": "code",
   "execution_count": 11,
   "metadata": {
    "scrolled": false
   },
   "outputs": [
    {
     "data": {
      "text/plain": [
       "RandomForestClassifier(bootstrap=True, ccp_alpha=0.0, class_weight=None,\n",
       "                       criterion='entropy', max_depth=None, max_features='auto',\n",
       "                       max_leaf_nodes=None, max_samples=None,\n",
       "                       min_impurity_decrease=0.0, min_impurity_split=None,\n",
       "                       min_samples_leaf=1, min_samples_split=2,\n",
       "                       min_weight_fraction_leaf=0.0, n_estimators=12,\n",
       "                       n_jobs=None, oob_score=False, random_state=0, verbose=0,\n",
       "                       warm_start=False)"
      ]
     },
     "execution_count": 11,
     "metadata": {},
     "output_type": "execute_result"
    }
   ],
   "source": [
    "classifier = RandomForestClassifier(n_estimators=12, criterion ='entropy' ,random_state =0)\n",
    "classifier.fit(imputed_X_train,y_train)\n",
    "# classifier = XGBRegressor(n_estimators=1000, learning_rate=0.05, n_jobs=4)\n",
    "# classifier.fit(imputed_X_train, y_train, \n",
    "#              early_stopping_rounds=5, \n",
    "#              eval_set=[(X_val, y_val)]) \n",
    "#              #verbose=False)"
   ]
  },
  {
   "cell_type": "code",
   "execution_count": 12,
   "metadata": {},
   "outputs": [],
   "source": [
    "y_pred = classifier.predict(imputed_X_val)\n",
    "y_pred = y_pred.astype('int32')\n",
    "\n",
    "# y_val\n",
    "# y_test\n",
    "\n",
    "# y_val_arr = y_val.to_numpy()\n",
    "# y_val_arr = y_val_arr.astype('int32')\n",
    "# len(y_pred)\n",
    "\n",
    "# y_pred[1].any()"
   ]
  },
  {
   "cell_type": "code",
   "execution_count": 13,
   "metadata": {
    "scrolled": true
   },
   "outputs": [
    {
     "data": {
      "text/plain": [
       "array([[911,   0,   2,   0,   6],\n",
       "       [  0, 242,   0,   0,   2],\n",
       "       [  0,   0,  43,   0,   2],\n",
       "       [  3,   0,   0,   0,   1],\n",
       "       [  1,   0,   0,   0, 284]], dtype=int64)"
      ]
     },
     "execution_count": 13,
     "metadata": {},
     "output_type": "execute_result"
    }
   ],
   "source": [
    "#Predicting the test results\n",
    "y_pred_1 = []\n",
    "y_val_1 = []\n",
    "\n",
    "for i in range(len(y_pred)):\n",
    "    for j in range(0,5):\n",
    "        if(y_pred[i][j]):\n",
    "            y_pred_1.append(j)\n",
    "            \n",
    "    if(y_pred[i].any()==False):\n",
    "        y_pred_1.append(4)\n",
    "            \n",
    "\n",
    "y_val_arr = y_val.to_numpy()\n",
    "y_val_arr = y_val_arr.astype('int32')\n",
    "\n",
    "for i in range(len(y_val_arr)):\n",
    "    for j in range(0,5):\n",
    "        if(y_val_arr[i][j]):\n",
    "            y_val_1.append(j)\n",
    "\n",
    "\n",
    "confusion_matrix(y_val_1, y_pred_1)"
   ]
  },
  {
   "cell_type": "code",
   "execution_count": 14,
   "metadata": {},
   "outputs": [
    {
     "data": {
      "text/plain": [
       "1872"
      ]
     },
     "execution_count": 14,
     "metadata": {},
     "output_type": "execute_result"
    }
   ],
   "source": [
    "classifier = RandomForestClassifier(n_estimators=12, criterion ='entropy' ,random_state =0)\n",
    "classifier.fit(imputed_X_test,y_test)\n",
    "\n",
    "y_pred_test = classifier.predict(imputed_X_test)\n",
    "y_pred_test = y_pred_test.astype('int32')\n",
    "len(y_pred_test)"
   ]
  },
  {
   "cell_type": "code",
   "execution_count": 15,
   "metadata": {},
   "outputs": [
    {
     "data": {
      "text/plain": [
       "array([[1160,    0,    0,    0,    0],\n",
       "       [   0,  311,    0,    0,    0],\n",
       "       [   0,    0,   58,    0,    3],\n",
       "       [   0,    0,    0,    2,    1],\n",
       "       [   0,    0,    0,    0,  337]], dtype=int64)"
      ]
     },
     "execution_count": 15,
     "metadata": {},
     "output_type": "execute_result"
    }
   ],
   "source": [
    "y_pred_2 = []\n",
    "y_test_2 = []\n",
    "\n",
    "for i in range(len(y_pred_test)):\n",
    "    for j in range(0,5):\n",
    "        if(y_pred_test[i][j]):\n",
    "            y_pred_2.append(j)\n",
    "            \n",
    "    if(y_pred_test[i].any()==False):\n",
    "        y_pred_2.append(4)\n",
    "            \n",
    "\n",
    "y_test_arr = y_test.to_numpy()\n",
    "y_test_arr = y_test_arr.astype('int32')\n",
    "\n",
    "for i in range(len(y_test_arr)):\n",
    "    for j in range(0,5):\n",
    "        if(y_test_arr[i][j]):\n",
    "            y_test_2.append(j)\n",
    "\n",
    "\n",
    "cm = confusion_matrix(y_test_2, y_pred_2)\n",
    "cm"
   ]
  }
 ],
 "metadata": {
  "kernelspec": {
   "display_name": "Python 3",
   "language": "python",
   "name": "python3"
  },
  "language_info": {
   "codemirror_mode": {
    "name": "ipython",
    "version": 3
   },
   "file_extension": ".py",
   "mimetype": "text/x-python",
   "name": "python",
   "nbconvert_exporter": "python",
   "pygments_lexer": "ipython3",
   "version": "3.7.5"
  }
 },
 "nbformat": 4,
 "nbformat_minor": 4
}
